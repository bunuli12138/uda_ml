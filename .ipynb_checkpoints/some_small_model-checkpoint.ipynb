{
 "cells": [
  {
   "cell_type": "markdown",
   "metadata": {},
   "source": [
    "## 3-D scatter"
   ]
  },
  {
   "cell_type": "markdown",
   "metadata": {},
   "source": [
    "蓝色圆形-蓝色方形，红色圆形-红色方形（5,10,15,5）22\n",
    "\n",
    "红色方形-绿色三角（15，20）18"
   ]
  },
  {
   "cell_type": "code",
   "execution_count": 1,
   "metadata": {},
   "outputs": [],
   "source": [
    "# 导入pandas、pyplot、Axes3D模块\n",
    "import pandas as pd\n",
    "import matplotlib.pyplot as plt \n",
    "from mpl_toolkits.mplot3d import Axes3D "
   ]
  },
  {
   "cell_type": "code",
   "execution_count": null,
   "metadata": {},
   "outputs": [],
   "source": [
    "# 用pandas模块读取Excel文件，并分别生成X轴（lng，经度）、Y轴（lat，纬度）、Z轴（sj，时间）\n",
    "data = pd.read_excel('D:/pythondata/test.xlsx') \n",
    "lng = pd.DataFrame(data,columns = ['经度'])\n",
    "lat = pd.DataFrame(data,columns = ['纬度'])\n",
    "sj = pd.DataFrame(data,columns = ['时间'])"
   ]
  },
  {
   "cell_type": "code",
   "execution_count": null,
   "metadata": {},
   "outputs": [],
   "source": [
    "# 生成画布、3D图形对象、三维散点图\n",
    "fig = plt.figure() \n",
    "ax = Axes3D(fig) \n",
    "ax.scatter(lng,lat,time) \n",
    "\n",
    "# 设置坐标轴显示以及旋转角度\n",
    "ax.set_xlabel('lng') \n",
    "ax.set_ylabel('lat')\n",
    "ax.set_zlabel('time')\n",
    "ax.view_init(elev=10,azim=235)\n",
    "plt.show()"
   ]
  },
  {
   "cell_type": "markdown",
   "metadata": {},
   "source": [
    "## PLA samples"
   ]
  },
  {
   "cell_type": "code",
   "execution_count": 2,
   "metadata": {},
   "outputs": [],
   "source": [
    "import numpy as np\n",
    "\n",
    "def sigmoid(n):\n",
    "    return 1 / (np.exp(n)+1)"
   ]
  },
  {
   "cell_type": "code",
   "execution_count": 3,
   "metadata": {},
   "outputs": [],
   "source": [
    "# PLA with 1 unit\n",
    "def simple_pla(inputs=None, targets=None, lr=0.1, epochs=2):\n",
    "    w = np.ones((2,1))\n",
    "    b = np.ones((1,1))\n",
    "    for bat in range(epochs):\n",
    "        for i in range(len(inputs)):\n",
    "            result = np.matmul(w.T, inputs[i]) + b\n",
    "            error = abs(result - targets[i])\n",
    "            del_err = error\n",
    "\n",
    "            w -= np.matmul(del_err, targets[i]) * lr\n",
    "            b -= error * lr\n",
    "    return w, b"
   ]
  },
  {
   "cell_type": "code",
   "execution_count": 4,
   "metadata": {},
   "outputs": [],
   "source": [
    "# show PLA results\n",
    "def show_pla(w,b, inputs, targets):\n",
    "    results = [np.matmul(w.T, inputs[i]) + b for i in range(4)]\n",
    "\n",
    "    print('result', '\\t\\t', 'target')\n",
    "    for i in range(4):\n",
    "        print(results[i], '\\t', targets[i])"
   ]
  },
  {
   "cell_type": "markdown",
   "metadata": {},
   "source": [
    "### AND"
   ]
  },
  {
   "cell_type": "code",
   "execution_count": 5,
   "metadata": {},
   "outputs": [
    {
     "data": {
      "text/plain": [
       "(array([1, 1]), array([1]))"
      ]
     },
     "execution_count": 5,
     "metadata": {},
     "output_type": "execute_result"
    }
   ],
   "source": [
    "and_in = np.array([[1,1],\n",
    "         [1, 0],\n",
    "         [0, 1],\n",
    "         [0, 0]])\n",
    "and_tar = np.array([[1],\n",
    "          [0],\n",
    "          [0],\n",
    "          [0]])\n",
    "\n",
    "and_in[0], and_tar[0]"
   ]
  },
  {
   "cell_type": "code",
   "execution_count": 6,
   "metadata": {
    "scrolled": true
   },
   "outputs": [
    {
     "data": {
      "text/plain": [
       "(array([[0.69536],\n",
       "        [0.69536]]), array([[0.13023648]]))"
      ]
     },
     "execution_count": 6,
     "metadata": {},
     "output_type": "execute_result"
    }
   ],
   "source": [
    "and_w, and_b = simple_pla(and_in, and_tar, epochs=2)\n",
    "and_w, and_b"
   ]
  },
  {
   "cell_type": "code",
   "execution_count": 7,
   "metadata": {},
   "outputs": [
    {
     "name": "stdout",
     "output_type": "stream",
     "text": [
      "result \t\t target\n",
      "[[1.52095648]] \t [1]\n",
      "[[0.82559648]] \t [0]\n",
      "[[0.82559648]] \t [0]\n",
      "[[0.13023648]] \t [0]\n"
     ]
    }
   ],
   "source": [
    "show_pla(and_w, and_b, and_in, and_tar)"
   ]
  },
  {
   "cell_type": "markdown",
   "metadata": {},
   "source": [
    "### OR"
   ]
  },
  {
   "cell_type": "code",
   "execution_count": 8,
   "metadata": {},
   "outputs": [
    {
     "data": {
      "text/plain": [
       "(array([1, 1]), array([1]))"
      ]
     },
     "execution_count": 8,
     "metadata": {},
     "output_type": "execute_result"
    }
   ],
   "source": [
    "or_in = np.array([[1,1],\n",
    "         [1, 0],\n",
    "         [0, 1],\n",
    "         [0, 0]])\n",
    "or_tar = np.array([[1],\n",
    "          [1],\n",
    "          [1],\n",
    "          [0]])\n",
    "\n",
    "or_in[0], or_tar[0]"
   ]
  },
  {
   "cell_type": "code",
   "execution_count": 9,
   "metadata": {},
   "outputs": [
    {
     "data": {
      "text/plain": [
       "(array([[0.5709008],\n",
       "        [0.5709008]]), array([[0.45153072]]))"
      ]
     },
     "execution_count": 9,
     "metadata": {},
     "output_type": "execute_result"
    }
   ],
   "source": [
    "or_w, or_b = simple_pla(or_in, or_tar)\n",
    "or_w, or_b"
   ]
  },
  {
   "cell_type": "code",
   "execution_count": 10,
   "metadata": {},
   "outputs": [
    {
     "name": "stdout",
     "output_type": "stream",
     "text": [
      "result \t\t target\n",
      "[[1.59333232]] \t [1]\n",
      "[[1.02243152]] \t [1]\n",
      "[[1.02243152]] \t [1]\n",
      "[[0.45153072]] \t [0]\n"
     ]
    }
   ],
   "source": [
    "show_pla(or_w, or_b, or_in, or_tar)"
   ]
  },
  {
   "cell_type": "markdown",
   "metadata": {},
   "source": [
    "### NOT(bad)"
   ]
  },
  {
   "cell_type": "code",
   "execution_count": 11,
   "metadata": {},
   "outputs": [
    {
     "data": {
      "text/plain": [
       "(array([1, 1]), array([0]))"
      ]
     },
     "execution_count": 11,
     "metadata": {},
     "output_type": "execute_result"
    }
   ],
   "source": [
    "not_in = np.array([[1,1],\n",
    "         [1, 0],\n",
    "         [0, 1],\n",
    "         [0, 0]])\n",
    "not_tar = np.array([[0],\n",
    "          [0],\n",
    "          [1],\n",
    "          [1]])\n",
    "\n",
    "not_in[0], not_tar[0]"
   ]
  },
  {
   "cell_type": "code",
   "execution_count": 12,
   "metadata": {},
   "outputs": [
    {
     "data": {
      "text/plain": [
       "(array([[0.05920515],\n",
       "        [0.05920515]]), array([[-1.10949859]]))"
      ]
     },
     "execution_count": 12,
     "metadata": {},
     "output_type": "execute_result"
    }
   ],
   "source": [
    "not_w, not_b = simple_pla(not_in, not_tar, epochs=5)\n",
    "not_w, not_b"
   ]
  },
  {
   "cell_type": "code",
   "execution_count": 13,
   "metadata": {},
   "outputs": [
    {
     "name": "stdout",
     "output_type": "stream",
     "text": [
      "result \t\t target\n",
      "[[-0.99108829]] \t [0]\n",
      "[[-1.05029344]] \t [0]\n",
      "[[-1.05029344]] \t [1]\n",
      "[[-1.10949859]] \t [1]\n"
     ]
    }
   ],
   "source": [
    "show_pla(not_w, not_b, not_in, not_tar)"
   ]
  },
  {
   "cell_type": "markdown",
   "metadata": {},
   "source": [
    "### XOR"
   ]
  },
  {
   "cell_type": "code",
   "execution_count": 14,
   "metadata": {},
   "outputs": [],
   "source": [
    "xor_in = np.array([[1,1],\n",
    "         [1, 0],\n",
    "         [0, 1],\n",
    "         [0, 0]])\n",
    "xor_tar = np.array([[1],\n",
    "          [0],\n",
    "          [0],\n",
    "          [1]])"
   ]
  },
  {
   "cell_type": "code",
   "execution_count": 21,
   "metadata": {},
   "outputs": [],
   "source": [
    "from sklearn.model_selection import KFold"
   ]
  },
  {
   "cell_type": "code",
   "execution_count": 57,
   "metadata": {},
   "outputs": [
    {
     "name": "stdout",
     "output_type": "stream",
     "text": [
      "[0, 1, 2, 3, 4, 5, 6, 7, 8, 9, 10, 11, 12, 13, 14, 15, 16, 17, 18, 19, 20, 21, 22, 23, 24, 25, 26, 27, 28, 29]\n"
     ]
    },
    {
     "data": {
      "text/plain": [
       "[(array([ 6,  7,  8,  9, 10, 11, 12, 13, 14, 15, 16, 17, 18, 19, 20, 21, 22,\n",
       "         23, 24, 25, 26, 27, 28, 29]), array([0, 1, 2, 3, 4, 5])),\n",
       " (array([ 0,  1,  2,  3,  4,  5, 12, 13, 14, 15, 16, 17, 18, 19, 20, 21, 22,\n",
       "         23, 24, 25, 26, 27, 28, 29]), array([ 6,  7,  8,  9, 10, 11])),\n",
       " (array([ 0,  1,  2,  3,  4,  5,  6,  7,  8,  9, 10, 11, 18, 19, 20, 21, 22,\n",
       "         23, 24, 25, 26, 27, 28, 29]), array([12, 13, 14, 15, 16, 17])),\n",
       " (array([ 0,  1,  2,  3,  4,  5,  6,  7,  8,  9, 10, 11, 12, 13, 14, 15, 16,\n",
       "         17, 24, 25, 26, 27, 28, 29]), array([18, 19, 20, 21, 22, 23])),\n",
       " (array([ 0,  1,  2,  3,  4,  5,  6,  7,  8,  9, 10, 11, 12, 13, 14, 15, 16,\n",
       "         17, 18, 19, 20, 21, 22, 23]), array([24, 25, 26, 27, 28, 29]))]"
      ]
     },
     "execution_count": 57,
     "metadata": {},
     "output_type": "execute_result"
    }
   ],
   "source": [
    "data = np.array([i for i in range(30)])\n",
    "print(list(data))\n",
    "\n",
    "kf = KFold(n_splits=5, shuffle=True)\n",
    "kf.get_n_splits(data)\n",
    "\n",
    "list(kf.split(data))"
   ]
  },
  {
   "cell_type": "code",
   "execution_count": 63,
   "metadata": {},
   "outputs": [],
   "source": [
    "from sklearn.model_selection import GridSearchCV"
   ]
  },
  {
   "cell_type": "code",
   "execution_count": null,
   "metadata": {},
   "outputs": [],
   "source": [
    "'''GridSearchCV sample'''\n",
    "# param_grid = [{'n_estimators': [3, 10, 30], 'max_features': [2, 4, 6, 8]},\n",
    "#               {'bootstrap': [False], 'n_estimators': [3, 10], 'max_features': [2, 3, 4]}]\n",
    " \n",
    "# forest_reg = RandomForestRegressor()\n",
    "# grid_search = GridSearchCV(forest_reg, param_grid, cv=5,\n",
    "#                           scoring='neg_mean_squared_error')\n",
    " \n",
    "# grid_search.fit(housing_prepared, housing_labels)"
   ]
  },
  {
   "cell_type": "markdown",
   "metadata": {},
   "source": [
    "## DT"
   ]
  },
  {
   "cell_type": "code",
   "execution_count": 3,
   "metadata": {},
   "outputs": [],
   "source": [
    "import pandas as pd\n",
    "import numpy as np\n",
    "\n",
    "from collections import Counter"
   ]
  },
  {
   "cell_type": "markdown",
   "metadata": {},
   "source": [
    "### data from books"
   ]
  },
  {
   "cell_type": "code",
   "execution_count": 4,
   "metadata": {},
   "outputs": [],
   "source": [
    "datasets = [['青年', '否', '否', '一般', '否'],\n",
    "           ['青年', '否', '否', '好', '否'],\n",
    "           ['青年', '是', '否', '好', '是'],\n",
    "           ['青年', '是', '是', '一般', '是'],\n",
    "           ['青年', '否', '否', '一般', '否'],\n",
    "           ['中年', '否', '否', '一般', '否'],\n",
    "           ['中年', '否', '否', '好', '否'],\n",
    "           ['中年', '是', '是', '好', '是'],\n",
    "           ['中年', '否', '是', '非常好', '是'],\n",
    "           ['中年', '否', '是', '非常好', '是'],\n",
    "           ['老年', '否', '是', '非常好', '是'],\n",
    "           ['老年', '否', '是', '好', '是'],\n",
    "           ['老年', '是', '否', '好', '是'],\n",
    "           ['老年', '是', '否', '非常好', '是'],\n",
    "           ['老年', '否', '否', '一般', '否'],\n",
    "           ]\n",
    "labels = [u'年龄', u'有工作', u'有自己的房子', u'信贷情况', u'类别']"
   ]
  },
  {
   "cell_type": "code",
   "execution_count": 5,
   "metadata": {},
   "outputs": [
    {
     "data": {
      "text/html": [
       "<div>\n",
       "<style scoped>\n",
       "    .dataframe tbody tr th:only-of-type {\n",
       "        vertical-align: middle;\n",
       "    }\n",
       "\n",
       "    .dataframe tbody tr th {\n",
       "        vertical-align: top;\n",
       "    }\n",
       "\n",
       "    .dataframe thead th {\n",
       "        text-align: right;\n",
       "    }\n",
       "</style>\n",
       "<table border=\"1\" class=\"dataframe\">\n",
       "  <thead>\n",
       "    <tr style=\"text-align: right;\">\n",
       "      <th></th>\n",
       "      <th>年龄</th>\n",
       "      <th>有工作</th>\n",
       "      <th>有自己的房子</th>\n",
       "      <th>信贷情况</th>\n",
       "      <th>类别</th>\n",
       "    </tr>\n",
       "  </thead>\n",
       "  <tbody>\n",
       "    <tr>\n",
       "      <td>0</td>\n",
       "      <td>青年</td>\n",
       "      <td>否</td>\n",
       "      <td>否</td>\n",
       "      <td>一般</td>\n",
       "      <td>否</td>\n",
       "    </tr>\n",
       "    <tr>\n",
       "      <td>1</td>\n",
       "      <td>青年</td>\n",
       "      <td>否</td>\n",
       "      <td>否</td>\n",
       "      <td>好</td>\n",
       "      <td>否</td>\n",
       "    </tr>\n",
       "    <tr>\n",
       "      <td>2</td>\n",
       "      <td>青年</td>\n",
       "      <td>是</td>\n",
       "      <td>否</td>\n",
       "      <td>好</td>\n",
       "      <td>是</td>\n",
       "    </tr>\n",
       "  </tbody>\n",
       "</table>\n",
       "</div>"
      ],
      "text/plain": [
       "   年龄 有工作 有自己的房子 信贷情况 类别\n",
       "0  青年   否      否   一般  否\n",
       "1  青年   否      否    好  否\n",
       "2  青年   是      否    好  是"
      ]
     },
     "execution_count": 5,
     "metadata": {},
     "output_type": "execute_result"
    }
   ],
   "source": [
    "data = pd.DataFrame(datasets,columns=labels)\n",
    "\n",
    "data.head(3)"
   ]
  },
  {
   "cell_type": "markdown",
   "metadata": {},
   "source": [
    "### entropy"
   ]
  },
  {
   "cell_type": "code",
   "execution_count": 142,
   "metadata": {},
   "outputs": [
    {
     "name": "stdout",
     "output_type": "stream",
     "text": [
      "{1: 3, 0: 2, -1: 1}\n",
      "{1: 0.5, 0: 0.3333333333333333, -1: 0.16666666666666666}\n"
     ]
    },
    {
     "data": {
      "text/plain": [
       "1.4591479170272448"
      ]
     },
     "execution_count": 142,
     "metadata": {},
     "output_type": "execute_result"
    }
   ],
   "source": [
    "# calculate entropy\n",
    "def cal_entropy(lst=[1,1,1,0,0,-1], pnt=False):\n",
    "    cntr = Counter(lst)\n",
    "    d = {}\n",
    "    for k in cntr.keys():\n",
    "        d[k] = cntr[k] / sum(cntr.values())\n",
    "    if pnt:\n",
    "        print(dict(cntr))\n",
    "        print(d)\n",
    "    return -sum([v*np.log2(v) for v in d.values()])\n",
    "\n",
    "cal_entropy(pnt=True)  # 1.46\n",
    "# cal_entropy(data[\"类别\"],pnt=True) # 0.971"
   ]
  },
  {
   "cell_type": "markdown",
   "metadata": {},
   "source": [
    "### conditional entropy"
   ]
  },
  {
   "cell_type": "code",
   "execution_count": 171,
   "metadata": {},
   "outputs": [
    {
     "name": "stdout",
     "output_type": "stream",
     "text": [
      "{'F': [1, 0, 0], 'M': [1, 1, -1]}\n",
      "{'F': 3, 'M': 3}\n",
      "[0.5, 0.5]\n",
      "[[0.5, 0.9182958340544896], [0.5, 0.9182958340544896]]\n"
     ]
    },
    {
     "data": {
      "text/plain": [
       "0.9182958340544896"
      ]
     },
     "execution_count": 171,
     "metadata": {},
     "output_type": "execute_result"
    }
   ],
   "source": [
    "# calculate conditional entropy\n",
    "def cond_entropy(cls=[1,1,1,0,0,-1],lst=['F','M','M','F','F','M'],pnt=False,ratio=False):\n",
    "    d_total = {}\n",
    "    for i in range(len(lst)):\n",
    "        d_total[lst[i]] = d_total.get(lst[i], [])\n",
    "        d_total[lst[i]].append(cls[i])\n",
    "    d_count = {}\n",
    "    for k in d_total.keys():\n",
    "        d_count[k] = len(d_total[k])\n",
    "    \n",
    "    if pnt:\n",
    "        print(d_total)\n",
    "        print(d_count)\n",
    "        print([-c/len(lst)*np.log2(c/len(lst))for c in d_count.values()])\n",
    "        print([[c/len(lst),cal_entropy(v)]for c,v in zip(d_count.values(),d_total.values())])\n",
    "    if ratio:\n",
    "        return [sum([c/len(lst)*cal_entropy(v)for c,v in zip(d_count.values(),d_total.values())]),\n",
    "                -sum([c/len(lst)*np.log2(c/len(lst))for c in d_count.values()])]\n",
    "    return sum([c/len(lst)*cal_entropy(v)for c,v in zip(d_count.values(),d_total.values())])\n",
    "    \n",
    "cond_entropy(pnt=True) # 0.92\n",
    "# cond_entropy(data[\"类别\"],data[\"年龄\"],pnt=True) # 0.888"
   ]
  },
  {
   "cell_type": "markdown",
   "metadata": {},
   "source": [
    "### imformation gain & ID3"
   ]
  },
  {
   "cell_type": "code",
   "execution_count": 172,
   "metadata": {},
   "outputs": [
    {
     "name": "stdout",
     "output_type": "stream",
     "text": [
      "{'否': 6, '是': 9}\n",
      "{'否': 0.4, '是': 0.6}\n",
      "{'青年': ['否', '否', '是', '是', '否'], '中年': ['否', '否', '是', '是', '是'], '老年': ['是', '是', '是', '是', '否']}\n",
      "{'青年': 5, '中年': 5, '老年': 5}\n",
      "[0.5283208335737187, 0.5283208335737187, 0.5283208335737187]\n",
      "[[0.3333333333333333, 0.9709505944546686], [0.3333333333333333, 0.9709505944546686], [0.3333333333333333, 0.7219280948873623]]\n"
     ]
    },
    {
     "data": {
      "text/plain": [
       "0.08300749985576883"
      ]
     },
     "execution_count": 172,
     "metadata": {},
     "output_type": "execute_result"
    }
   ],
   "source": [
    "# imformation gain\n",
    "def info_gain(ent, cond):\n",
    "    return ent-cond\n",
    "\n",
    "# info_gain(cal_entropy(pnt=True), cond_entropy(pnt=True))\n",
    "info_gain(cal_entropy(data[\"类别\"],pnt=True),\n",
    "         cond_entropy(data[\"类别\"],data[\"年龄\"],pnt=True))"
   ]
  },
  {
   "cell_type": "code",
   "execution_count": 11,
   "metadata": {},
   "outputs": [],
   "source": [
    "# 定义节点类 二叉树\n",
    "class Node:\n",
    "    def __init__(self, root=True, label=None, feature_name=None, feature=None):\n",
    "        self.root = root\n",
    "        self.label = label\n",
    "        self.feature_name = feature_name\n",
    "        self.feature = feature\n",
    "        self.tree = {}\n",
    "        self.result = {\n",
    "            'label:': self.label,\n",
    "            'feature': self.feature,\n",
    "            'tree': self.tree\n",
    "        }\n",
    "\n",
    "    def __repr__(self):\n",
    "        return '{}'.format(self.result)\n",
    "\n",
    "    def add_node(self, val, node):\n",
    "        self.tree[val] = node\n",
    "\n",
    "    def predict(self, features):\n",
    "        if self.root is True:\n",
    "            return self.label\n",
    "        return self.tree[features[self.feature]].predict(features)\n",
    "\n",
    "\n",
    "class DTree:\n",
    "    def __init__(self, epsilon=0.1):\n",
    "        self.epsilon = epsilon\n",
    "        self._tree = {}\n",
    "\n",
    "    # 熵\n",
    "    @staticmethod\n",
    "    def calc_ent(datasets):\n",
    "        data_length = len(datasets)\n",
    "        label_count = {}\n",
    "        for i in range(data_length):\n",
    "            label = datasets[i][-1]\n",
    "            if label not in label_count:\n",
    "                label_count[label] = 0\n",
    "            label_count[label] += 1\n",
    "        ent = -sum([(p / data_length) * np.log2(p / data_length)for p in label_count.values()])\n",
    "        return ent\n",
    "\n",
    "    # 经验条件熵\n",
    "    def cond_ent(self, datasets, axis=0):\n",
    "        data_length = len(datasets)\n",
    "        feature_sets = {}\n",
    "        for i in range(data_length):\n",
    "            feature = datasets[i][axis]\n",
    "            if feature not in feature_sets:\n",
    "                feature_sets[feature] = []\n",
    "            feature_sets[feature].append(datasets[i])\n",
    "        cond_ent = sum([(len(p) / data_length) * self.calc_ent(p)\n",
    "                        for p in feature_sets.values()])\n",
    "        return cond_ent\n",
    "\n",
    "    # 信息增益\n",
    "    @staticmethod\n",
    "    def info_gain(ent, cond_ent):\n",
    "        return ent - cond_ent\n",
    "\n",
    "    def info_gain_train(self, datasets):\n",
    "        count = len(datasets[0]) - 1\n",
    "        ent = self.calc_ent(datasets)\n",
    "        best_feature = []\n",
    "        for c in range(count):\n",
    "            c_info_gain = self.info_gain(ent, self.cond_ent(datasets, axis=c))\n",
    "            best_feature.append((c, c_info_gain))\n",
    "        # 比较大小\n",
    "        best_ = max(best_feature, key=lambda x: x[-1])\n",
    "        return best_\n",
    "\n",
    "    def train(self, train_data):\n",
    "        \"\"\"\n",
    "        input:数据集D(DataFrame格式)，特征集A，阈值eta\n",
    "        output:决策树T\n",
    "        \"\"\"\n",
    "        _, y_train, features = train_data.iloc[:, :-1], train_data.iloc[:, -1], train_data.columns[:-1]\n",
    "        # 1,若D中实例属于同一类Ck，则T为单节点树，并将类Ck作为结点的类标记，返回T\n",
    "        if len(y_train.value_counts()) == 1:\n",
    "            return Node(root=True, label=y_train.iloc[0])\n",
    "\n",
    "        # 2, 若A为空，则T为单节点树，将D中实例树最大的类Ck作为该节点的类标记，返回T\n",
    "        if len(features) == 0:\n",
    "            return Node(\n",
    "                root=True,\n",
    "                label=y_train.value_counts().sort_values(\n",
    "                    ascending=False).index[0])\n",
    "\n",
    "        # 3,计算最大信息增益 同5.1,Ag为信息增益最大的特征\n",
    "        max_feature, max_info_gain = self.info_gain_train(np.array(train_data))\n",
    "        max_feature_name = features[max_feature]\n",
    "\n",
    "        # 4,Ag的信息增益小于阈值eta,则置T为单节点树，并将D中是实例数最大的类Ck作为该节点的类标记，返回T\n",
    "        if max_info_gain < self.epsilon:\n",
    "            return Node(\n",
    "                root=True,\n",
    "                label=y_train.value_counts().sort_values(\n",
    "                    ascending=False).index[0])\n",
    "\n",
    "        # 5,构建Ag子集\n",
    "        node_tree = Node(\n",
    "            root=False, feature_name=max_feature_name, feature=max_feature)\n",
    "\n",
    "        feature_list = train_data[max_feature_name].value_counts().index\n",
    "        for f in feature_list:\n",
    "            sub_train_df = train_data.loc[train_data[max_feature_name] ==\n",
    "                                          f].drop([max_feature_name], axis=1)\n",
    "\n",
    "            # 6, 递归生成树\n",
    "            sub_tree = self.train(sub_train_df)\n",
    "            node_tree.add_node(f, sub_tree)\n",
    "\n",
    "        # pprint.pprint(node_tree.tree)\n",
    "        return node_tree\n",
    "\n",
    "    def fit(self, train_data):\n",
    "        self._tree = self.train(train_data)\n",
    "        return self._tree\n",
    "\n",
    "    def predict(self, X_test):\n",
    "        return self._tree.predict(X_test)"
   ]
  },
  {
   "cell_type": "code",
   "execution_count": 24,
   "metadata": {},
   "outputs": [
    {
     "name": "stdout",
     "output_type": "stream",
     "text": [
      "{'label:': None, 'feature': 2, 'tree': {'否': {'label:': None, 'feature': 1, 'tree': {'否': {'label:': '否', 'feature': None, 'tree': {}}, '是': {'label:': '是', 'feature': None, 'tree': {}}}}, '是': {'label:': '是', 'feature': None, 'tree': {}}}}\n"
     ]
    }
   ],
   "source": [
    "data_df = pd.DataFrame(datasets, columns=labels)\n",
    "dt = DTree()\n",
    "tree = dt.fit(data_df)\n",
    "\n",
    "print(tree)"
   ]
  },
  {
   "cell_type": "markdown",
   "metadata": {},
   "source": [
    "```python\n",
    "{'feature': 2,\n",
    " 'label:': None,\n",
    " 'tree': {'否': {'feature': 1,\n",
    "                'label:': None,\n",
    "                'tree': {'否': {'feature': None, 'label:': '否', 'tree': {}},\n",
    "                         '是': {'feature': None, 'label:': '是', 'tree': {}}}},\n",
    "          '是': {'feature': None, 'label:': '是', 'tree': {}}}}\n",
    "```"
   ]
  },
  {
   "cell_type": "markdown",
   "metadata": {},
   "source": [
    "### imformation gain ratio & C4.5"
   ]
  },
  {
   "cell_type": "code",
   "execution_count": 173,
   "metadata": {},
   "outputs": [
    {
     "name": "stdout",
     "output_type": "stream",
     "text": [
      "{'否': 6, '是': 9}\n",
      "{'否': 0.4, '是': 0.6}\n",
      "{'青年': ['否', '否', '是', '是', '否'], '中年': ['否', '否', '是', '是', '是'], '老年': ['是', '是', '是', '是', '否']}\n",
      "{'青年': 5, '中年': 5, '老年': 5}\n",
      "[0.5283208335737187, 0.5283208335737187, 0.5283208335737187]\n",
      "[[0.3333333333333333, 0.9709505944546686], [0.3333333333333333, 0.9709505944546686], [0.3333333333333333, 0.7219280948873623]]\n"
     ]
    },
    {
     "data": {
      "text/plain": [
       "0.05237190142858302"
      ]
     },
     "execution_count": 173,
     "metadata": {},
     "output_type": "execute_result"
    }
   ],
   "source": [
    "# imformation gain ratio\n",
    "def info_gain_ratio(ent, cond, ratio):\n",
    "    return (ent-cond)/ratio\n",
    "\n",
    "info_gain_scale(cal_entropy(data[\"类别\"],pnt=True),\n",
    "         *(cond_entropy(data[\"类别\"],data[\"年龄\"],pnt=True,ratio=True)))"
   ]
  },
  {
   "cell_type": "code",
   "execution_count": null,
   "metadata": {},
   "outputs": [],
   "source": []
  },
  {
   "cell_type": "code",
   "execution_count": null,
   "metadata": {},
   "outputs": [],
   "source": []
  },
  {
   "cell_type": "code",
   "execution_count": null,
   "metadata": {},
   "outputs": [],
   "source": []
  },
  {
   "cell_type": "code",
   "execution_count": null,
   "metadata": {},
   "outputs": [],
   "source": []
  },
  {
   "cell_type": "code",
   "execution_count": null,
   "metadata": {},
   "outputs": [],
   "source": []
  },
  {
   "cell_type": "code",
   "execution_count": null,
   "metadata": {},
   "outputs": [],
   "source": []
  },
  {
   "cell_type": "code",
   "execution_count": null,
   "metadata": {},
   "outputs": [],
   "source": []
  },
  {
   "cell_type": "code",
   "execution_count": null,
   "metadata": {},
   "outputs": [],
   "source": []
  },
  {
   "cell_type": "code",
   "execution_count": null,
   "metadata": {},
   "outputs": [],
   "source": []
  },
  {
   "cell_type": "code",
   "execution_count": null,
   "metadata": {},
   "outputs": [],
   "source": []
  },
  {
   "cell_type": "code",
   "execution_count": null,
   "metadata": {},
   "outputs": [],
   "source": []
  },
  {
   "cell_type": "code",
   "execution_count": null,
   "metadata": {},
   "outputs": [],
   "source": []
  },
  {
   "cell_type": "code",
   "execution_count": null,
   "metadata": {},
   "outputs": [],
   "source": []
  },
  {
   "cell_type": "code",
   "execution_count": null,
   "metadata": {},
   "outputs": [],
   "source": []
  },
  {
   "cell_type": "code",
   "execution_count": null,
   "metadata": {},
   "outputs": [],
   "source": []
  }
 ],
 "metadata": {
  "kernelspec": {
   "display_name": "Python 3",
   "language": "python",
   "name": "python3"
  },
  "language_info": {
   "codemirror_mode": {
    "name": "ipython",
    "version": 3
   },
   "file_extension": ".py",
   "mimetype": "text/x-python",
   "name": "python",
   "nbconvert_exporter": "python",
   "pygments_lexer": "ipython3",
   "version": "3.6.8"
  },
  "toc": {
   "base_numbering": 1,
   "nav_menu": {},
   "number_sections": true,
   "sideBar": true,
   "skip_h1_title": false,
   "title_cell": "Table of Contents",
   "title_sidebar": "Contents",
   "toc_cell": false,
   "toc_position": {},
   "toc_section_display": true,
   "toc_window_display": true
  }
 },
 "nbformat": 4,
 "nbformat_minor": 2
}
